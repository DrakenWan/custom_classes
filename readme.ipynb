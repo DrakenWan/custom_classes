{
 "cells": [
  {
   "cell_type": "code",
   "execution_count": 73,
   "id": "444aee13",
   "metadata": {},
   "outputs": [],
   "source": [
    "### custom date class\n",
    "class date:\n",
    "    months = ['default','January', 'February', 'March', 'April', 'May', 'June', 'July', 'August', 'September', 'October'\\\n",
    "             ,'November', 'December']\n",
    "    \n",
    "    def __init__(self,day=0,month=0,year=0,format='%d/%m/%y', word=False):\n",
    "        self.__day, self.__month, self.__year = self.__validate(day,month,year)\n",
    "        self.format = format\n",
    "        self.__word = word\n",
    "        \n",
    "        self.__evaluate_date()\n",
    "    \n",
    "    \n",
    "    def __dayh(self, digit):\n",
    "        if int(digit) == 1:\n",
    "            return 'st'\n",
    "        elif int(digit) == 2:\n",
    "            return 'nd'\n",
    "        elif int(digit) == 3:\n",
    "            return 'rd'\n",
    "        else:\n",
    "            return 'th'\n",
    "    \n",
    "    def __str__(self):\n",
    "        \n",
    "        if self.__day == 0 and self.__month == 0 and self.__year == 0:\n",
    "            return '0 CE'\n",
    "        \n",
    "        if self.__word:\n",
    "            return self.months[int(self.__month)] + ' ' + self.__day + self.__dayh(str(self.__day)[-1]) + ', ' + self.__year\n",
    "        return self.__day + self.format[2] + self.__month + self.format[5] +self.__year\n",
    "    \n",
    "    def __validate(self,dd,mm,yy):\n",
    "        dd, mm, yy = dd,mm,yy\n",
    "        \n",
    "        ####validations follow####\n",
    "        if len(str(dd)) > 2:\n",
    "            raise ValueError('Invalid day value. Length exceeded.')\n",
    "        \n",
    "        if len(str(mm)) > 2:\n",
    "            raise ValueError('Invalid month value. Length exceeded.')\n",
    "        \n",
    "        if len(str(yy)) < 4:\n",
    "            raise ValueError('Invalid year value. Length exceeded.')\n",
    "            \n",
    "        max1=0\n",
    "        if(mm==1 or mm==3 or mm==5 or mm==7 or mm==8 or mm==10 or mm==12):\n",
    "            max1=31\n",
    "        elif(mm==4 or mm==6 or mm==9 or mm==11):\n",
    "            max1=30\n",
    "        elif(yy%4==0 and yy%100!=0 or yy%400==0):\n",
    "            max1=29\n",
    "        else:\n",
    "            max1=28\n",
    "        \n",
    "        if mm<1 or mm>12:\n",
    "            raise ValueError('Invalid month value. Accepted range [1,12]')\n",
    "        elif dd<1 or dd>max1:\n",
    "            raise ValueError('Invalid day value.')\n",
    "        \n",
    "        ####Validations end here#####\n",
    "        return str(dd),str(mm),str(yy)\n",
    "        \n",
    "    \n",
    "    def __evaluate_date(self):\n",
    "        if len(self.__day) != 2:\n",
    "            self.__day = '0' + self.__day\n",
    "        if len(self.__month) != 2:\n",
    "            self.__month = '0' + self.__month\n",
    "    \n",
    "    \n",
    "    def toggle_word(self):\n",
    "        if self.__word:\n",
    "            self.__word = False\n",
    "        else:\n",
    "            self.__word = True\n",
    "            \n",
    "        return self\n",
    "    \n",
    "    def __getitem__(self, key):\n",
    "        \"\"\"\n",
    "        Key reference:-\n",
    "            name  | key \n",
    "            -------------\n",
    "            day   | 'd', 'day', 0\n",
    "            month | 'm', 'month', 1\n",
    "            year  | 'y', 'year', 2\n",
    "        \"\"\"\n",
    "        if key in ['d', 0, 'day', -3]:\n",
    "            return self.__day\n",
    "        elif key in ['m', 1, 'month', -2]:\n",
    "            return self.__month\n",
    "        elif key in ['y', 2, 'year', -1]:\n",
    "            return self.__year\n",
    "        else:\n",
    "            raise ValueError(\"Key value is wrong.\")\n",
    "        \n",
    "        \n",
    "    def __setitem__(self, key, value):\n",
    "        \"\"\"\n",
    "         Key reference:-\n",
    "            name  | key \n",
    "            -------------\n",
    "            day   | 'd', 'day', 0\n",
    "            month | 'm', 'month', 1\n",
    "            year  | 'y', 'year', 2\n",
    "        \"\"\"\n",
    "        d = int(self.__day)\n",
    "        m = int(self.__month)\n",
    "        y = int(self.__year)\n",
    "        \n",
    "        if key in ['d', 0, 'day', -3]:\n",
    "            self.__day, self.__month, self.__year = self.__validate(value, m, y)\n",
    "        elif key in ['m', 1, 'month', -2]:\n",
    "            self.__day, self.__month, self.__year = self.__validate(d, value, y)\n",
    "        elif key in ['y', 2, 'year', -1]:\n",
    "            self.__day, self.__month, self.__year = self.__validate(d, m, value)\n",
    "        else:\n",
    "            raise ValueError(\"Key value is wrong.\")\n",
    "        \n",
    "        self.__evaluate_date()\n",
    "        \n",
    "\n",
    "##x = date(29,2,1992, format='%d.%m.%y')\n",
    "##print(x)"
   ]
  },
  {
   "cell_type": "code",
   "execution_count": 82,
   "id": "e4ac6a1c",
   "metadata": {},
   "outputs": [
    {
     "name": "stdout",
     "output_type": "stream",
     "text": [
      "December 30th, 2004\n"
     ]
    }
   ],
   "source": [
    "x = date(30,12,2004, format='%d/%m/%y', word=True)\n",
    "print(x)"
   ]
  },
  {
   "cell_type": "code",
   "execution_count": 83,
   "id": "7ff557b2",
   "metadata": {},
   "outputs": [],
   "source": [
    "x['month'] = 11"
   ]
  },
  {
   "cell_type": "code",
   "execution_count": 81,
   "id": "bdc41baf",
   "metadata": {},
   "outputs": [
    {
     "name": "stdout",
     "output_type": "stream",
     "text": [
      "November 30th, 2004\n"
     ]
    }
   ],
   "source": [
    "print(x)"
   ]
  },
  {
   "cell_type": "code",
   "execution_count": 59,
   "id": "d4080873",
   "metadata": {},
   "outputs": [],
   "source": [
    "import pandas as pd\n",
    "import numpy as np"
   ]
  },
  {
   "cell_type": "code",
   "execution_count": 67,
   "id": "f13558e7",
   "metadata": {},
   "outputs": [],
   "source": [
    "names = {0: 'Karry', 1:'Porni', 2:'Ajanta', 3:'Kali'}\n",
    "sids = {0: 1, 1: 3, 2: 5, 3: 9}\n",
    "dobs = {0: date(19,2,1998), 1: date(20,12,1997), 2: date(31, 5, 1998), 3: date(12, 10, 1998)}"
   ]
  },
  {
   "cell_type": "code",
   "execution_count": 69,
   "id": "ee72dcc3",
   "metadata": {},
   "outputs": [
    {
     "data": {
      "text/html": [
       "<div>\n",
       "<style scoped>\n",
       "    .dataframe tbody tr th:only-of-type {\n",
       "        vertical-align: middle;\n",
       "    }\n",
       "\n",
       "    .dataframe tbody tr th {\n",
       "        vertical-align: top;\n",
       "    }\n",
       "\n",
       "    .dataframe thead th {\n",
       "        text-align: right;\n",
       "    }\n",
       "</style>\n",
       "<table border=\"1\" class=\"dataframe\">\n",
       "  <thead>\n",
       "    <tr style=\"text-align: right;\">\n",
       "      <th></th>\n",
       "      <th>names</th>\n",
       "      <th>sids</th>\n",
       "      <th>dobs</th>\n",
       "    </tr>\n",
       "  </thead>\n",
       "  <tbody>\n",
       "    <tr>\n",
       "      <th>0</th>\n",
       "      <td>Karry</td>\n",
       "      <td>1</td>\n",
       "      <td>19/02/1998</td>\n",
       "    </tr>\n",
       "    <tr>\n",
       "      <th>1</th>\n",
       "      <td>Porni</td>\n",
       "      <td>3</td>\n",
       "      <td>20/12/1997</td>\n",
       "    </tr>\n",
       "    <tr>\n",
       "      <th>2</th>\n",
       "      <td>Ajanta</td>\n",
       "      <td>5</td>\n",
       "      <td>31/05/1998</td>\n",
       "    </tr>\n",
       "    <tr>\n",
       "      <th>3</th>\n",
       "      <td>Kali</td>\n",
       "      <td>9</td>\n",
       "      <td>12/10/1998</td>\n",
       "    </tr>\n",
       "  </tbody>\n",
       "</table>\n",
       "</div>"
      ],
      "text/plain": [
       "    names  sids        dobs\n",
       "0   Karry     1  19/02/1998\n",
       "1   Porni     3  20/12/1997\n",
       "2  Ajanta     5  31/05/1998\n",
       "3    Kali     9  12/10/1998"
      ]
     },
     "execution_count": 69,
     "metadata": {},
     "output_type": "execute_result"
    }
   ],
   "source": [
    "pd.DataFrame({\"names\":names, \"sids\":sids, \"dobs\":dobs})"
   ]
  },
  {
   "cell_type": "code",
   "execution_count": null,
   "id": "93567abc",
   "metadata": {},
   "outputs": [],
   "source": []
  }
 ],
 "metadata": {
  "kernelspec": {
   "display_name": "Python 3 (ipykernel)",
   "language": "python",
   "name": "python3"
  },
  "language_info": {
   "codemirror_mode": {
    "name": "ipython",
    "version": 3
   },
   "file_extension": ".py",
   "mimetype": "text/x-python",
   "name": "python",
   "nbconvert_exporter": "python",
   "pygments_lexer": "ipython3",
   "version": "3.10.11"
  }
 },
 "nbformat": 4,
 "nbformat_minor": 5
}
