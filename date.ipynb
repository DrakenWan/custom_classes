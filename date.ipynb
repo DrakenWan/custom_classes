{
 "cells": [
  {
   "cell_type": "code",
   "execution_count": 86,
   "id": "444aee13",
   "metadata": {},
   "outputs": [],
   "source": [
    "### custom date class\n",
    "class date:\n",
    "    months = ['default','January', 'February', 'March', 'April', 'May', 'June', 'July', 'August', 'September', 'October'\\\n",
    "             ,'November', 'December']\n",
    "        \n",
    "    def __init__(self,_1=0, _2=0, _3=0,format='%d/%m/%y', word=False):\n",
    "        assert type(_1) == type(1), \"Error: must be an integer\"\n",
    "        assert type(_2) == type(1), \"Error: must be an integer\"\n",
    "        assert type(_3) == type(1), \"Error: must be an integer\"\n",
    "\n",
    "        assert type(format) == type(\"string\"), \"format parameter must be a string\"\n",
    "        assert len(format) == 8, \"length of format parameter must be 8 characters\"\n",
    "        \n",
    "        f = format\n",
    "        import re #import regex\n",
    "\n",
    "        # creating our list of indices from format \n",
    "        f = re.split(\"\\W\", f)\n",
    "\n",
    "        # format assertions\n",
    "        assert f[1] in ['d', 'm', 'y'], \"format string wrong. check index 1\"\n",
    "        assert f[3] in ['d', 'm', 'y'], \"format string wrong. check index 3\"\n",
    "        assert f[5] in ['d', 'm', 'y'], \"format string wrong. check index 5\"\n",
    "        \n",
    "        # dictionary for reference\n",
    "        d = {f[1]: _1, f[3]: _2, f[5]: _3}\n",
    "        \n",
    "\n",
    "\n",
    "        self.__day, self.__month, self.__year = self.__validate(d['d'], d['m'], d['y'])\n",
    "        self.format = format\n",
    "        self.__word = word\n",
    "        \n",
    "        self.__evaluate_date()\n",
    "    \n",
    "    \n",
    "    def __dayh(self, digit):\n",
    "        if int(digit) == 1:\n",
    "            return 'st'\n",
    "        elif int(digit) == 2:\n",
    "            return 'nd'\n",
    "        elif int(digit) == 3:\n",
    "            return 'rd'\n",
    "        else:\n",
    "            return 'th'\n",
    "    \n",
    "    def __str__(self):\n",
    "        \n",
    "        if self.__word:\n",
    "            return self.months[int(self.__month)] + ' ' + self.__day + self.__dayh(str(self.__day)[-1]) + ', ' + self.__year\n",
    "        else:\n",
    "            string = self.format\n",
    "            string = string.replace(\"%d\", str(self.__day))\n",
    "            string = string.replace(\"%m\", str(self.__month))\n",
    "            string = string.replace(\"%y\", str(self.__year))\n",
    "            return string\n",
    "    \n",
    "    def __validate(self,dd,mm,yy):\n",
    "        \n",
    "        ####validations follow####\n",
    "        if len(str(dd)) > 2:\n",
    "            raise ValueError('Invalid day value. Length exceeded.')\n",
    "        \n",
    "        if len(str(mm)) > 2:\n",
    "            raise ValueError('Invalid month value. Length exceeded.')\n",
    "        \n",
    "        # if len(str(yy)) < 4:\n",
    "        #     raise ValueError('Invalid year value. Length exceeded.')\n",
    "            \n",
    "        max1=0\n",
    "        if(mm==1 or mm==3 or mm==5 or mm==7 or mm==8 or mm==10 or mm==12):\n",
    "            max1=31\n",
    "        elif(mm==4 or mm==6 or mm==9 or mm==11):\n",
    "            max1=30\n",
    "        elif(yy%4==0 and yy%100!=0 or yy%400==0):\n",
    "            max1=29\n",
    "        else:\n",
    "            max1=28\n",
    "        \n",
    "        if mm<1 or mm>12:\n",
    "            raise ValueError('Invalid month value. Accepted range [1,12]')\n",
    "        elif dd<1 or dd>max1:\n",
    "            raise ValueError('Invalid day value.')\n",
    "        \n",
    "        ####Validations end here#####\n",
    "        return str(dd),str(mm),str(yy)\n",
    "        \n",
    "    \n",
    "    def __evaluate_date(self):\n",
    "        if len(self.__day) != 2:\n",
    "            self.__day = '0' + self.__day\n",
    "        if len(self.__month) != 2:\n",
    "            self.__month = '0' + self.__month\n",
    "    \n",
    "    \n",
    "    def toggle_word(self):\n",
    "        if self.__word:\n",
    "            self.__word = False\n",
    "        else:\n",
    "            self.__word = True\n",
    "            \n",
    "        return self\n",
    "    \n",
    "    def __getitem__(self, key):\n",
    "        \"\"\"\n",
    "        Key reference:-\n",
    "            name  | key \n",
    "            -------------\n",
    "            day   | 'd', 'day', 0\n",
    "            month | 'm', 'month', 1\n",
    "            year  | 'y', 'year', 2\n",
    "\n",
    "        EXAMPLE USAGE:-\n",
    "        Suppose you want to get the month value.\n",
    "            >>> x = date(19/2/1998)\n",
    "            >>> x['month']\n",
    "            [out]: '02'\n",
    "\n",
    "            >>> x['m']\n",
    "            [out]: '02'\n",
    "\n",
    "            >>> x[1]\n",
    "            [out]: '02'\n",
    "            \n",
    "        \"\"\"\n",
    "        if key in ['d', 0, 'day', -3]:\n",
    "            return self.__day\n",
    "        elif key in ['m', 1, 'month', -2]:\n",
    "            return self.__month\n",
    "        elif key in ['y', 2, 'year', -1]:\n",
    "            return self.__year\n",
    "        else:\n",
    "            raise ValueError(\"Key value is wrong.\")\n",
    "        \n",
    "        \n",
    "    def __setitem__(self, key, value):\n",
    "        \"\"\"\n",
    "         Key reference:-\n",
    "            name  | key \n",
    "            -------------\n",
    "            day   | 'd', 'day', 0\n",
    "            month | 'm', 'month', 1\n",
    "            year  | 'y', 'year', 2\n",
    "        \"\"\"\n",
    "        d = int(self.__day)\n",
    "        m = int(self.__month)\n",
    "        y = int(self.__year)\n",
    "        \n",
    "        if key in ['d', 0, 'day', -3]:\n",
    "            self.__day, self.__month, self.__year = self.__validate(value, m, y)\n",
    "        elif key in ['m', 1, 'month', -2]:\n",
    "            self.__day, self.__month, self.__year = self.__validate(d, value, y)\n",
    "        elif key in ['y', 2, 'year', -1]:\n",
    "            self.__day, self.__month, self.__year = self.__validate(d, m, value)\n",
    "        else:\n",
    "            raise ValueError(\"Key value is wrong.\")\n",
    "        \n",
    "        self.__evaluate_date()\n",
    "        \n",
    "\n",
    "    def to_date(value, format='%d/%m/%y'):\n",
    "        \"\"\"\n",
    "            Convert the date in string to date format\n",
    "        \"\"\"\n",
    "        \n",
    "        if format[2] not in value:\n",
    "            raise ValueError(\"wrong format in string. Use correct `format`.\")\n",
    "        \n",
    "        d, m, y = value.split(format[2])\n",
    "        newd = date(int(d), int(m), int(y), format=format)\n",
    "\n",
    "        return newd"
   ]
  },
  {
   "attachments": {},
   "cell_type": "markdown",
   "id": "c57ec7b0",
   "metadata": {},
   "source": [
    "### Initialisation\n",
    "\n",
    "to initialise a date class it requires that you at least give it three inputs of `day`, `month` and `year` to have a non-trivial date. Even if you did not give values the validation methods built in the date class will raise errors for the defaulting integer values of the parameters. Let's intialise a variable `birthday` with value \"19th February 1998\""
   ]
  },
  {
   "cell_type": "code",
   "execution_count": 87,
   "id": "e4ac6a1c",
   "metadata": {},
   "outputs": [
    {
     "name": "stdout",
     "output_type": "stream",
     "text": [
      "19/02/1998\n"
     ]
    }
   ],
   "source": [
    "birthday = date(19,2,1998)\n",
    "print(birthday)"
   ]
  },
  {
   "attachments": {},
   "cell_type": "markdown",
   "id": "c3b5070b",
   "metadata": {},
   "source": [
    "In the simplest form of initialization, we only require three parameters with the order of input being day, month and year. There are two more parameters that can be set during initialization.\n",
    "-   **word** : This decides whether month be printed in numeric form or word form\n",
    "-   **format** :  This is a python string used to set numerical form date print format. Default value is `\"%d/%m%/%y\"`\n",
    "\n",
    "Below are some instances with aforementioned parameters."
   ]
  },
  {
   "cell_type": "code",
   "execution_count": 88,
   "id": "7ff557b2",
   "metadata": {},
   "outputs": [
    {
     "name": "stdout",
     "output_type": "stream",
     "text": [
      "May 08th, 2019\n"
     ]
    }
   ],
   "source": [
    "joining_day = date(8, 5, 2019, word=True)\n",
    "print(joining_day)"
   ]
  },
  {
   "attachments": {},
   "cell_type": "markdown",
   "id": "62657394",
   "metadata": {},
   "source": [
    "In the above code cell, setting `word` to `True` leads to changing the print format of the date object to word form. It overrides whatever `format` value has been given as input. Here is another example which demonstrates the use of `format` variable"
   ]
  },
  {
   "cell_type": "code",
   "execution_count": 89,
   "id": "708e0e16",
   "metadata": {},
   "outputs": [
    {
     "name": "stdout",
     "output_type": "stream",
     "text": [
      "15-08-1947\n"
     ]
    }
   ],
   "source": [
    "independence_day = date(15, 8, 1947, format=\"%d-%m-%y\")\n",
    "print(independence_day)"
   ]
  },
  {
   "attachments": {},
   "cell_type": "markdown",
   "id": "f7b11433",
   "metadata": {},
   "source": [
    "What if we change the order of the date sequence in the `format`? Let's see:-"
   ]
  },
  {
   "cell_type": "code",
   "execution_count": 90,
   "id": "64a2c3ac",
   "metadata": {},
   "outputs": [
    {
     "name": "stdout",
     "output_type": "stream",
     "text": [
      "01/22/1998\n"
     ]
    }
   ],
   "source": [
    "rand_date = date(1, 22, 1998, format=\"%m/%d/%y\")\n",
    "print(rand_date)"
   ]
  },
  {
   "attachments": {},
   "cell_type": "markdown",
   "id": "53d14f9a",
   "metadata": {},
   "source": [
    "In the above code cell, the date format has the month before the day. So the printed string for numeric form also prints the month value first and then the day. We can make the date's values swap places using the `format` parameters but make sure that the format follows date-time conventions."
   ]
  },
  {
   "attachments": {},
   "cell_type": "markdown",
   "id": "9c055201",
   "metadata": {},
   "source": [
    "### Accessing internal elements of the `date` object\n",
    "\n",
    "You cannot simply call `x.__day` to access `day` element of the `date` object. This will generate error."
   ]
  },
  {
   "cell_type": "code",
   "execution_count": 91,
   "id": "68f6ae16",
   "metadata": {},
   "outputs": [
    {
     "ename": "AttributeError",
     "evalue": "'date' object has no attribute '__day'",
     "output_type": "error",
     "traceback": [
      "\u001b[1;31m---------------------------------------------------------------------------\u001b[0m",
      "\u001b[1;31mAttributeError\u001b[0m                            Traceback (most recent call last)",
      "Cell \u001b[1;32mIn[91], line 2\u001b[0m\n\u001b[0;32m      1\u001b[0m x \u001b[39m=\u001b[39m date(\u001b[39m19\u001b[39m,\u001b[39m2\u001b[39m,\u001b[39m1998\u001b[39m)\n\u001b[1;32m----> 2\u001b[0m x\u001b[39m.\u001b[39;49m__day\n",
      "\u001b[1;31mAttributeError\u001b[0m: 'date' object has no attribute '__day'"
     ]
    }
   ],
   "source": [
    "x = date(19,2,1998)\n",
    "x.__day"
   ]
  },
  {
   "attachments": {},
   "cell_type": "markdown",
   "id": "a9fdd3fd",
   "metadata": {},
   "source": [
    "Intead of this we have a way to access the date components using an `index` of sort. We have a function for this.\n",
    "\n",
    "Run `?date.__getitem__` and read its docstring. It has a key reference as well as example usage. Take a look:-"
   ]
  },
  {
   "cell_type": "code",
   "execution_count": 92,
   "id": "ad25ae9e",
   "metadata": {},
   "outputs": [
    {
     "name": "stdout",
     "output_type": "stream",
     "text": [
      "\u001b[1;31mSignature:\u001b[0m \u001b[0mdate\u001b[0m\u001b[1;33m.\u001b[0m\u001b[0m__getitem__\u001b[0m\u001b[1;33m(\u001b[0m\u001b[0mself\u001b[0m\u001b[1;33m,\u001b[0m \u001b[0mkey\u001b[0m\u001b[1;33m)\u001b[0m\u001b[1;33m\u001b[0m\u001b[1;33m\u001b[0m\u001b[0m\n",
      "\u001b[1;31mDocstring:\u001b[0m\n",
      "Key reference:-\n",
      "    name  | key \n",
      "    -------------\n",
      "    day   | 'd', 'day', 0\n",
      "    month | 'm', 'month', 1\n",
      "    year  | 'y', 'year', 2\n",
      "\n",
      "EXAMPLE USAGE:-\n",
      "Suppose you want to get the month value.\n",
      "    >>> x = date(19/2/1998)\n",
      "    >>> x['month']\n",
      "    [out]: '02'\n",
      "\n",
      "    >>> x['m']\n",
      "    [out]: '02'\n",
      "\n",
      "    >>> x[1]\n",
      "    [out]: '02'\n",
      "    \n",
      "\u001b[1;31mFile:\u001b[0m      c:\\users\\karti\\appdata\\local\\temp\\ipykernel_184\\1141312012.py\n",
      "\u001b[1;31mType:\u001b[0m      function"
     ]
    }
   ],
   "source": [
    "?date.__getitem__"
   ]
  },
  {
   "attachments": {},
   "cell_type": "markdown",
   "id": "437a3829",
   "metadata": {},
   "source": [
    "You can also change these values. Below code cell demonstrates this:-"
   ]
  },
  {
   "cell_type": "code",
   "execution_count": 95,
   "id": "e3f01320",
   "metadata": {},
   "outputs": [
    {
     "name": "stdout",
     "output_type": "stream",
     "text": [
      "Old value:  19/02/1998\n",
      "New value:  28/02/1998\n"
     ]
    }
   ],
   "source": [
    "bday = date(19,2,1998)\n",
    "print(\"Old value: \", bday)\n",
    "\n",
    "# replace `day` with another value\n",
    "bday[0] = 28\n",
    "print(\"New value: \", bday)"
   ]
  },
  {
   "attachments": {},
   "cell_type": "markdown",
   "id": "832807a5",
   "metadata": {},
   "source": [
    "### Toggling between numeric and word formats\n",
    "\n",
    "One can change the format of print of the date object by calling the `date.toggle_word` method. This method returns a new `date` object with changed print format. This will switch the print format of the `date` object. For instance:-"
   ]
  },
  {
   "cell_type": "code",
   "execution_count": 98,
   "id": "ef6308ce",
   "metadata": {},
   "outputs": [
    {
     "name": "stdout",
     "output_type": "stream",
     "text": [
      "Toggled to word format:  28/02/1998\n",
      "Toggle back to numeric form:  February 28th, 1998\n"
     ]
    }
   ],
   "source": [
    "bday = bday.toggle_word()\n",
    "print(\"Toggled to word format: \", bday)\n",
    "bday = bday.toggle_word()\n",
    "print(\"Toggle back to numeric form: \", bday)"
   ]
  },
  {
   "attachments": {},
   "cell_type": "markdown",
   "id": "88a69fda",
   "metadata": {},
   "source": [
    "### Usecase\n",
    "\n",
    "One use case of date class is in the form of tabulation data in real life. Say we have tabular data of a bunch of students with some information such as student IDs, names, scores, date of births, date of joining, etc. The date columns can be of string format and can be converted to datetime format from pre-existing form of the table in some format Or data can be generated in date format directly while making tabulation data using date class in python.\n",
    "\n",
    "Keeping this use case in mind I will keep making modification sto `date` class to suit it. Right now I have an idea to initialise the date object with just a string date time.\n",
    "\n",
    "Below I have defined some variables for our use case. I have then filled them in to the DataFrame from pandas module. As can be seen the date object sits well in there. :)\n",
    "\n",
    "Doing this can be helpful as we might want to perform some operations that are specific to the `date` class. What if I want to shift the year by 1? Is there a way to achieve this? I will keep adding methods into the `date` class to solve these problems."
   ]
  },
  {
   "cell_type": "code",
   "execution_count": 74,
   "id": "d4080873",
   "metadata": {},
   "outputs": [],
   "source": [
    "import pandas as pd\n",
    "import numpy as np"
   ]
  },
  {
   "cell_type": "code",
   "execution_count": 75,
   "id": "f13558e7",
   "metadata": {},
   "outputs": [],
   "source": [
    "names = {0: 'Karry', 1:'Porni', 2:'Ajanta', 3:'Kali', 4:'Rico'}\n",
    "sids = {0: 1, 1: 3, 2: 5, 3: 9, 4: 10}\n",
    "dobs = {0: date(19,2,1998), 1: date(20,12,1997), 2: date(31, 5, 1998), 3: date(12, 10, 1998), 4:date(9, 12, 1997)}"
   ]
  },
  {
   "cell_type": "code",
   "execution_count": 76,
   "id": "ee72dcc3",
   "metadata": {},
   "outputs": [
    {
     "data": {
      "text/html": [
       "<div>\n",
       "<style scoped>\n",
       "    .dataframe tbody tr th:only-of-type {\n",
       "        vertical-align: middle;\n",
       "    }\n",
       "\n",
       "    .dataframe tbody tr th {\n",
       "        vertical-align: top;\n",
       "    }\n",
       "\n",
       "    .dataframe thead th {\n",
       "        text-align: right;\n",
       "    }\n",
       "</style>\n",
       "<table border=\"1\" class=\"dataframe\">\n",
       "  <thead>\n",
       "    <tr style=\"text-align: right;\">\n",
       "      <th></th>\n",
       "      <th>names</th>\n",
       "      <th>sids</th>\n",
       "      <th>dobs</th>\n",
       "    </tr>\n",
       "  </thead>\n",
       "  <tbody>\n",
       "    <tr>\n",
       "      <th>0</th>\n",
       "      <td>Karry</td>\n",
       "      <td>1</td>\n",
       "      <td>19/02/1998</td>\n",
       "    </tr>\n",
       "    <tr>\n",
       "      <th>1</th>\n",
       "      <td>Porni</td>\n",
       "      <td>3</td>\n",
       "      <td>20/12/1997</td>\n",
       "    </tr>\n",
       "    <tr>\n",
       "      <th>2</th>\n",
       "      <td>Ajanta</td>\n",
       "      <td>5</td>\n",
       "      <td>31/05/1998</td>\n",
       "    </tr>\n",
       "    <tr>\n",
       "      <th>3</th>\n",
       "      <td>Kali</td>\n",
       "      <td>9</td>\n",
       "      <td>12/10/1998</td>\n",
       "    </tr>\n",
       "    <tr>\n",
       "      <th>4</th>\n",
       "      <td>Rico</td>\n",
       "      <td>10</td>\n",
       "      <td>09/12/1997</td>\n",
       "    </tr>\n",
       "  </tbody>\n",
       "</table>\n",
       "</div>"
      ],
      "text/plain": [
       "    names  sids        dobs\n",
       "0   Karry     1  19/02/1998\n",
       "1   Porni     3  20/12/1997\n",
       "2  Ajanta     5  31/05/1998\n",
       "3    Kali     9  12/10/1998\n",
       "4    Rico    10  09/12/1997"
      ]
     },
     "execution_count": 76,
     "metadata": {},
     "output_type": "execute_result"
    }
   ],
   "source": [
    "pd.DataFrame({\"names\":names, \"sids\":sids, \"dobs\":dobs})"
   ]
  },
  {
   "attachments": {},
   "cell_type": "markdown",
   "id": "02bcd84d",
   "metadata": {},
   "source": [
    "### Converting `str` dates to `date` dates\n",
    "\n",
    "Converting dates in string format to standard `date` class format can be done like so:-"
   ]
  },
  {
   "cell_type": "code",
   "execution_count": 77,
   "id": "93567abc",
   "metadata": {},
   "outputs": [
    {
     "name": "stdout",
     "output_type": "stream",
     "text": [
      "Numeric form: 19/02/1998\n",
      "Word form: February 19th, 1998\n"
     ]
    }
   ],
   "source": [
    "birthday = \"19/2/1998\"\n",
    "birthday_std = date.to_date(birthday)\n",
    "print(\"Numeric form:\", birthday_std)\n",
    "print(\"Word form:\", birthday_std.toggle_word())"
   ]
  },
  {
   "attachments": {},
   "cell_type": "markdown",
   "id": "9d9915ec",
   "metadata": {},
   "source": [
    "The default format accepted for string dates is `\"%d/%m/%y\"`. If there is a mismatch, then error arises. For instance:-"
   ]
  },
  {
   "cell_type": "code",
   "execution_count": 78,
   "id": "4b307ebb",
   "metadata": {},
   "outputs": [
    {
     "ename": "ValueError",
     "evalue": "wrong format in string. Use correct `format`.",
     "output_type": "error",
     "traceback": [
      "\u001b[1;31m---------------------------------------------------------------------------\u001b[0m",
      "\u001b[1;31mValueError\u001b[0m                                Traceback (most recent call last)",
      "Cell \u001b[1;32mIn[78], line 2\u001b[0m\n\u001b[0;32m      1\u001b[0m joining_date \u001b[39m=\u001b[39m \u001b[39m\"\u001b[39m\u001b[39m14-5-2020\u001b[39m\u001b[39m\"\u001b[39m\n\u001b[1;32m----> 2\u001b[0m joining_date_std \u001b[39m=\u001b[39m date\u001b[39m.\u001b[39;49mto_date(joining_date)\n\u001b[0;32m      3\u001b[0m \u001b[39mprint\u001b[39m(joining_date_std)\n",
      "Cell \u001b[1;32mIn[70], line 154\u001b[0m, in \u001b[0;36mdate.to_date\u001b[1;34m(value, format)\u001b[0m\n\u001b[0;32m    149\u001b[0m \u001b[39m\u001b[39m\u001b[39m\"\"\"\u001b[39;00m\n\u001b[0;32m    150\u001b[0m \u001b[39m    Convert the date in string to date format\u001b[39;00m\n\u001b[0;32m    151\u001b[0m \u001b[39m\"\"\"\u001b[39;00m\n\u001b[0;32m    153\u001b[0m \u001b[39mif\u001b[39;00m \u001b[39mformat\u001b[39m[\u001b[39m2\u001b[39m] \u001b[39mnot\u001b[39;00m \u001b[39min\u001b[39;00m value:\n\u001b[1;32m--> 154\u001b[0m     \u001b[39mraise\u001b[39;00m \u001b[39mValueError\u001b[39;00m(\u001b[39m\"\u001b[39m\u001b[39mwrong format in string. Use correct `format`.\u001b[39m\u001b[39m\"\u001b[39m)\n\u001b[0;32m    156\u001b[0m d, m, y \u001b[39m=\u001b[39m value\u001b[39m.\u001b[39msplit(\u001b[39mformat\u001b[39m[\u001b[39m2\u001b[39m])\n\u001b[0;32m    157\u001b[0m newd \u001b[39m=\u001b[39m date(\u001b[39mint\u001b[39m(d), \u001b[39mint\u001b[39m(m), \u001b[39mint\u001b[39m(y), \u001b[39mformat\u001b[39m\u001b[39m=\u001b[39m\u001b[39mformat\u001b[39m)\n",
      "\u001b[1;31mValueError\u001b[0m: wrong format in string. Use correct `format`."
     ]
    }
   ],
   "source": [
    "joining_date = \"14-5-2020\"\n",
    "joining_date_std = date.to_date(joining_date)\n",
    "print(joining_date_std)"
   ]
  },
  {
   "attachments": {},
   "cell_type": "markdown",
   "id": "6629b812",
   "metadata": {},
   "source": [
    "As can be seen above, we have not changed the `format` parameter for right conversion. We must add `format=\"%d-%m-%y\"` in the function call above to make it work."
   ]
  },
  {
   "cell_type": "code",
   "execution_count": 79,
   "id": "86043b79",
   "metadata": {},
   "outputs": [
    {
     "name": "stdout",
     "output_type": "stream",
     "text": [
      "Numeric form: 14-05-2020\n",
      "Word form: May 14th, 2020\n"
     ]
    }
   ],
   "source": [
    "joining_date = \"14-5-2020\"\n",
    "joining_date_std = date.to_date(joining_date, format=\"%d-%m-%y\")\n",
    "print(\"Numeric form:\",joining_date_std)\n",
    "print(\"Word form:\", joining_date_std.toggle_word())"
   ]
  },
  {
   "cell_type": "code",
   "execution_count": null,
   "id": "75a501eb",
   "metadata": {},
   "outputs": [],
   "source": []
  }
 ],
 "metadata": {
  "kernelspec": {
   "display_name": "Python 3 (ipykernel)",
   "language": "python",
   "name": "python3"
  },
  "language_info": {
   "codemirror_mode": {
    "name": "ipython",
    "version": 3
   },
   "file_extension": ".py",
   "mimetype": "text/x-python",
   "name": "python",
   "nbconvert_exporter": "python",
   "pygments_lexer": "ipython3",
   "version": "3.10.11"
  }
 },
 "nbformat": 4,
 "nbformat_minor": 5
}
